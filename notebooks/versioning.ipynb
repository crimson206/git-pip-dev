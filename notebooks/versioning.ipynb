{
 "cells": [
  {
   "cell_type": "markdown",
   "id": "d6b0026f",
   "metadata": {},
   "source": [
    "생각해보니 버저닝은 우리가 신경쓸게 아님.\n",
    "installer한테 그대로 넘겨주면 될 일."
   ]
  },
  {
   "cell_type": "code",
   "execution_count": 1,
   "id": "8ca94532",
   "metadata": {},
   "outputs": [
    {
     "data": {
      "text/plain": [
       "[<Version('0.1.0')>, <Version('0.2.0')>]"
      ]
     },
     "execution_count": 1,
     "metadata": {},
     "output_type": "execute_result"
    }
   ],
   "source": [
    "from packaging.version import Version\n",
    "from packaging.specifiers import SpecifierSet\n",
    "\n",
    "# 버전 조건 파싱\n",
    "spec = SpecifierSet(\"<=0.2.0\")\n",
    "\n",
    "tag_versions = [\n",
    "    Version(\"0.1.0\"),\n",
    "    Version(\"0.2.0\"),\n",
    "    Version(\"0.2.1\"),\n",
    "    Version(\"0.3.0\"),\n",
    "]\n",
    "\n",
    "# 어떤 버전들이 이 조건에 맞는지 필터링\n",
    "matching = [v for v in tag_versions if spec.contains(v)]\n",
    "matching"
   ]
  },
  {
   "cell_type": "code",
   "execution_count": null,
   "id": "84dbbfa6",
   "metadata": {},
   "outputs": [
    {
     "name": "stdout",
     "output_type": "stream",
     "text": [
      "['1.0', '2.0.0', '1.0a1', '2.0-dev', '3.0.0.0']\n"
     ]
    }
   ],
   "source": [
    "from packaging import version\n",
    "\n",
    "def get_valid_versions(version_strings):\n",
    "    valid_versions = []\n",
    "    \n",
    "    for ver_str in version_strings:\n",
    "        try:\n",
    "            # Version 객체로 파싱 시도\n",
    "            v = version.parse(ver_str)\n",
    "            # 파싱 성공하면 유효한 버전으로 간주\n",
    "            valid_versions.append(ver_str)\n",
    "        except version.InvalidVersion:\n",
    "            # 유효하지 않은 버전은 무시\n",
    "            pass\n",
    "    \n",
    "    return valid_versions\n",
    "\n",
    "# 예시\n",
    "versions = [\"1.0\", \"2.0.0\", \"invalid\", \"1.0a1\", \"2.0-dev\", \"3.0.0.0\"]\n",
    "valid = get_valid_versions(versions)\n",
    "print(valid)"
   ]
  },
  {
   "cell_type": "code",
   "execution_count": null,
   "id": "cbbdb6b2",
   "metadata": {},
   "outputs": [
    {
     "name": "stdout",
     "output_type": "stream",
     "text": [
      "['1.0', '1.1dev1', '1.1a1', '1.1a2', '2.0.0']\n"
     ]
    }
   ],
   "source": [
    "from packaging.specifiers import SpecifierSet\n",
    "from packaging.version import parse\n",
    "\n",
    "\n",
    "def filter_versions_by_spec(version_strings, spec_string, prereleases=False):\n",
    "    valid_versions = get_valid_versions(version_strings)\n",
    "    spec = SpecifierSet(spec_string, prereleases=prereleases)\n",
    "\n",
    "    filtered_versions = list((set(spec.filter(valid_versions))))\n",
    "\n",
    "    return sorted(filtered_versions, key=parse)\n",
    "\n",
    "# 예: \">=1.0,<2.0\" 요구사항을 만족하는 버전들\n",
    "versions = [\n",
    "    \"1.1a1\", \"1.0\", \"2.0.0\", \n",
    "    \"invalid\", \"1.0a1\",  \"1.1a1\", \n",
    "    \"1.1dev1\", \"3.0.0.0\",\n",
    "    \"1.1a2\", \n",
    "]\n",
    "filtered = filter_versions_by_spec(versions, \">=1.0,<3.0\", prereleases=True)\n",
    "print(filtered)"
   ]
  }
 ],
 "metadata": {
  "kernelspec": {
   "display_name": "git-pip",
   "language": "python",
   "name": "python3"
  },
  "language_info": {
   "codemirror_mode": {
    "name": "ipython",
    "version": 3
   },
   "file_extension": ".py",
   "mimetype": "text/x-python",
   "name": "python",
   "nbconvert_exporter": "python",
   "pygments_lexer": "ipython3",
   "version": "3.11.11"
  }
 },
 "nbformat": 4,
 "nbformat_minor": 5
}
