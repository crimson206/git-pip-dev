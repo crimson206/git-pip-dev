{
 "cells": [
  {
   "cell_type": "code",
   "execution_count": null,
   "id": "8ca94532",
   "metadata": {},
   "outputs": [],
   "source": [
    "from packaging.version import Version\n",
    "from packaging.specifiers import SpecifierSet\n",
    "\n",
    "# 버전 조건 파싱\n",
    "spec = SpecifierSet(\"<=0.2.0\")\n",
    "\n",
    "tag_versions = [\n",
    "    Version(\"0.1.0\"),\n",
    "    Version(\"0.2.0\"),\n",
    "    Version(\"0.2.1\"),\n",
    "    Version(\"0.3.0\"),\n",
    "]\n",
    "\n",
    "# 어떤 버전들이 이 조건에 맞는지 필터링\n",
    "matching = [v for v in tag_versions if spec.contains(v)]\n"
   ]
  }
 ],
 "metadata": {
  "kernelspec": {
   "display_name": "git-pip",
   "language": "python",
   "name": "python3"
  },
  "language_info": {
   "name": "python",
   "version": "3.11.11"
  }
 },
 "nbformat": 4,
 "nbformat_minor": 5
}
