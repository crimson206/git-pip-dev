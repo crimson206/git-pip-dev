{
 "cells": [
  {
   "cell_type": "code",
   "execution_count": 3,
   "id": "726874bb",
   "metadata": {},
   "outputs": [],
   "source": [
    "from gh_pip_rc.functions.utils import *\n",
    "from gh_pip_rc.functions.utils import get_repository_info"
   ]
  },
  {
   "cell_type": "code",
   "execution_count": 4,
   "id": "5c8c45ca",
   "metadata": {},
   "outputs": [
    {
     "data": {
      "text/plain": [
       "'TEMP'"
      ]
     },
     "execution_count": 4,
     "metadata": {},
     "output_type": "execute_result"
    }
   ],
   "source": [
    "load_github_token()"
   ]
  },
  {
   "cell_type": "code",
   "execution_count": 5,
   "id": "44ca4b57",
   "metadata": {},
   "outputs": [
    {
     "data": {
      "text/plain": [
       "{'name': 'crimson206/git-pip-dev',\n",
       " 'url': 'https://github.com/crimson206/git-pip-dev.git',\n",
       " 'user': 'crimson206',\n",
       " 'repo': 'git-pip-dev'}"
      ]
     },
     "execution_count": 5,
     "metadata": {},
     "output_type": "execute_result"
    }
   ],
   "source": [
    "get_repository_info()"
   ]
  },
  {
   "cell_type": "code",
   "execution_count": 6,
   "id": "196b498f",
   "metadata": {},
   "outputs": [
    {
     "data": {
      "text/plain": [
       "'0.1.3a2'"
      ]
     },
     "execution_count": 6,
     "metadata": {},
     "output_type": "execute_result"
    }
   ],
   "source": [
    "read_version_from_pyproject()"
   ]
  },
  {
   "cell_type": "code",
   "execution_count": 7,
   "id": "cb54bfd5",
   "metadata": {},
   "outputs": [
    {
     "data": {
      "text/plain": [
       "['/mnt/d/crimson/manager/python/git-pip/git-pip-dev/dist/crimson_git_pip_rc-0.1.3a2.tar.gz']"
      ]
     },
     "execution_count": 7,
     "metadata": {},
     "output_type": "execute_result"
    }
   ],
   "source": [
    "get_distribution_files()"
   ]
  },
  {
   "cell_type": "code",
   "execution_count": 13,
   "id": "5f4302c5",
   "metadata": {},
   "outputs": [],
   "source": [
    "import os\n",
    "\n",
    "\n",
    "def find_nearest_config_file(config_filename=\"gh_pip.yaml\", start_dir=None):\n",
    "    \"\"\"\n",
    "    현재 디렉토리부터 시작하여 상위 디렉토리로 올라가면서\n",
    "    가장 가까운 gh_pip.yaml 파일을 찾습니다.\n",
    "\n",
    "    Args:\n",
    "        config_filename (str): 찾을 설정 파일 이름 (기본값: gh_pip.yaml)\n",
    "        start_dir (str, optional): 검색을 시작할 디렉토리. None인 경우 현재 작업 디렉토리 사용\n",
    "\n",
    "    Returns:\n",
    "        str: 발견된 설정 파일의 절대 경로\n",
    "\n",
    "    Raises:\n",
    "        FileNotFoundError: 설정 파일을 찾을 수 없는 경우\n",
    "    \"\"\"\n",
    "    # 검색 시작 디렉토리 설정\n",
    "    if start_dir is None:\n",
    "        start_dir = os.getcwd()\n",
    "\n",
    "    # 절대 경로로 변환\n",
    "    current_dir = os.path.abspath(start_dir)\n",
    "\n",
    "    # 파일 시스템의 루트 디렉토리에 도달할 때까지 올라가면서 검색\n",
    "    while True:\n",
    "        # 현재 디렉토리에서 config_filename 확인\n",
    "        config_path = os.path.join(current_dir, config_filename)\n",
    "        if os.path.isfile(config_path):\n",
    "            return os.path.dirname(config_path)\n",
    "\n",
    "        # 상위 디렉토리로 이동\n",
    "        parent_dir = os.path.dirname(current_dir)\n",
    "\n",
    "        # 루트 디렉토리에 도달했는지 확인 (상위 디렉토리가 현재 디렉토리와 같을 때)\n",
    "        if parent_dir == current_dir:\n",
    "            raise FileNotFoundError(f\"{config_filename} 파일을 찾을 수 없습니다.\")\n",
    "\n",
    "        # 상위 디렉토리로 이동\n",
    "        current_dir = parent_dir"
   ]
  },
  {
   "cell_type": "code",
   "execution_count": 14,
   "id": "73d352dc",
   "metadata": {},
   "outputs": [
    {
     "data": {
      "text/plain": [
       "'/mnt/d/crimson/manager/python/git-pip/git-pip-dev'"
      ]
     },
     "execution_count": 14,
     "metadata": {},
     "output_type": "execute_result"
    }
   ],
   "source": [
    "find_nearest_config_file()"
   ]
  }
 ],
 "metadata": {
  "kernelspec": {
   "display_name": "git-pip",
   "language": "python",
   "name": "python3"
  },
  "language_info": {
   "codemirror_mode": {
    "name": "ipython",
    "version": 3
   },
   "file_extension": ".py",
   "mimetype": "text/x-python",
   "name": "python",
   "nbconvert_exporter": "python",
   "pygments_lexer": "ipython3",
   "version": "3.11.11"
  }
 },
 "nbformat": 4,
 "nbformat_minor": 5
}
