{
 "cells": [
  {
   "cell_type": "code",
   "execution_count": null,
   "id": "787881c8",
   "metadata": {},
   "outputs": [],
   "source": [
    "import re\n",
    "\n",
    "def clean_ansi_codes(text):\n",
    "    ansi_escape = re.compile(r'\\x1b\\[[0-9;]*m')\n",
    "    return ansi_escape.sub('', text)"
   ]
  },
  {
   "cell_type": "code",
   "execution_count": 33,
   "id": "0cf4f02d",
   "metadata": {},
   "outputs": [],
   "source": [
    "def get_repository_name(github_username:str, value: str) -> str:\n",
    "    pass\n",
    "\n",
    "def parse_repo_n_version(\n",
    "    github_username: str,\n",
    "    value: str,\n",
    "):\n",
    "    if not teamspace:\n",
    "        teamspace = github_username\n",
    "    \n",
    "    if \"/\" in value:\n",
    "        full_repo_n_version = value\n",
    "    else:\n",
    "        full_repo_n_version = get_repository_name(github_username, value)\n"
   ]
  },
  {
   "cell_type": "code",
   "execution_count": 34,
   "id": "6eb3379d",
   "metadata": {},
   "outputs": [],
   "source": [
    "import re\n",
    "\n",
    "full_repo_and_version = 'crimson/module>0.1.0'\n",
    "\n",
    "m = re.match(r\"(?P<full>[^<>=!~]+)(?P<spec>[<>=!~].+)?\", full_repo_and_version)\n",
    "if not m:\n",
    "    raise ValueError(\"Invalid format for repo and version\")\n",
    "\n",
    "full_repo = m.group(\"full\").strip(\"/\")\n",
    "version_spec = m.group(\"spec\") or \"\""
   ]
  },
  {
   "cell_type": "code",
   "execution_count": 35,
   "id": "1c574501",
   "metadata": {},
   "outputs": [
    {
     "data": {
      "text/plain": [
       "'crimson/module'"
      ]
     },
     "execution_count": 35,
     "metadata": {},
     "output_type": "execute_result"
    }
   ],
   "source": [
    "full_repo"
   ]
  },
  {
   "cell_type": "code",
   "execution_count": null,
   "id": "d37873ef",
   "metadata": {},
   "outputs": [],
   "source": [
    "from packaging.version import Version, InvalidVersion\n",
    "from packaging.specifiers import SpecifierSet\n"
   ]
  },
  {
   "cell_type": "code",
   "execution_count": 37,
   "id": "5982834e",
   "metadata": {},
   "outputs": [],
   "source": [
    "tags = [\n",
    "    \"gh-pip-v0.1.0\",\n",
    "    \"gh-pip-v0.1.1\",\n",
    "    \"gh-pip-v0.1.1-rc1\",\n",
    "    \"gh-pip-v0.1.1-rc2\",\n",
    "]"
   ]
  },
  {
   "cell_type": "code",
   "execution_count": 44,
   "id": "2b416f9e",
   "metadata": {},
   "outputs": [
    {
     "data": {
      "text/plain": [
       "'crimson206/module'"
      ]
     },
     "execution_count": 44,
     "metadata": {},
     "output_type": "execute_result"
    }
   ],
   "source": [
    "def split_tag(tag):\n",
    "    \n",
    "    m = re.match(r\"(?P<full>[^<>=!~]+)(?P<spec>[<>=!~].+)?\", tag)\n",
    "    if not m:\n",
    "        raise ValueError(\"Invalid format for repo and version\")\n",
    "\n",
    "    value = m.group(\"full\").strip(\"/\")\n",
    "    version_spec = m.group(\"spec\") or \"\"\n",
    "\n",
    "    return value, version_spec\n",
    "\n",
    "value_and_version = 'crimson/module>0.1.0'\n",
    "\n",
    "split_tag(value_and_version)\n",
    "\n",
    "def get_full_repo(github_username, value):\n",
    "    if \"/\" in value:\n",
    "        return value\n",
    "    else:\n",
    "        return get_repository_name(github_username, value)\n",
    "\n",
    "get_full_repo(\"crimson\", \"crimson206/module\")"
   ]
  },
  {
   "cell_type": "code",
   "execution_count": null,
   "id": "14ae036a",
   "metadata": {},
   "outputs": [],
   "source": [
    "from crimson.git_pip_beta.utils.processor import run_shell\n",
    "\n",
    "def get_commit(user, repo, commit_id):\n",
    "    # Simulate getting a commit from GitHub\n",
    "    return run_shell(\n",
    "        f\"gh api repos/{user}/{repo}/commits/{commit_id}\",\n",
    "        capture_output=True,\n",
    "        text=True,)\n",
    "\n",
    "def view_visibility(user, repo):\n",
    "    # Simulate getting a commit from GitHub\n",
    "\n",
    "    result = run_shell(\n",
    "        f\"gh repo view {user}/{repo} --json isPrivate\",\n",
    "        capture_output=True,\n",
    "        text=True,\n",
    "    )\n",
    "\n",
    "    return clean_ansi_codes(result.stdout)\n"
   ]
  },
  {
   "cell_type": "code",
   "execution_count": 83,
   "id": "c65be1cf",
   "metadata": {},
   "outputs": [
    {
     "name": "stdout",
     "output_type": "stream",
     "text": [
      "\u001b[1;38m{\u001b[m\n",
      "  \u001b[1;34m\"isPrivate\"\u001b[m\u001b[1;38m:\u001b[m \u001b[33mtrue\u001b[m\n",
      "\u001b[1;38m}\u001b[m\n",
      "\u001b[1;38m{\u001b[m\n",
      "  \u001b[1;34m\"isPrivate\"\u001b[m\u001b[1;38m:\u001b[m \u001b[33mtrue\u001b[m\n",
      "\u001b[1;38m}\u001b[m\n",
      "\n"
     ]
    }
   ],
   "source": [
    "result = view_visibility(\"crimson206\", \"git-pip\")\n"
   ]
  },
  {
   "cell_type": "code",
   "execution_count": 60,
   "id": "2b8d37f3",
   "metadata": {},
   "outputs": [],
   "source": [
    "commit = get_commit(\"crimson206\", \"git-pip\", \"712b182\")"
   ]
  },
  {
   "cell_type": "code",
   "execution_count": null,
   "id": "c0c11acd",
   "metadata": {},
   "outputs": [],
   "source": [
    "import json \n",
    "\n",
    "raw_text = commit.stdout"
   ]
  },
  {
   "cell_type": "code",
   "execution_count": 64,
   "id": "a8316318",
   "metadata": {},
   "outputs": [
    {
     "name": "stdout",
     "output_type": "stream",
     "text": [
      "chore: set version to 0.1.16\n"
     ]
    }
   ],
   "source": [
    "import re\n",
    "import json\n",
    "\n",
    "def clean_ansi_codes(text):\n",
    "    ansi_escape = re.compile(r'\\x1b\\[[0-9;]*m')\n",
    "    return ansi_escape.sub('', text)\n",
    "\n",
    "clean_text = clean_ansi_codes(raw_text)\n",
    "\n",
    "# JSON으로 파싱\n",
    "data = json.loads(clean_text)\n",
    "\n",
    "# 이제 data는 정상적인 Python 딕셔너리입니다\n",
    "print(data['commit']['message'])"
   ]
  },
  {
   "cell_type": "markdown",
   "id": "f5e209d5",
   "metadata": {},
   "source": [
    "1. install\n",
    "2. publish\n"
   ]
  }
 ],
 "metadata": {
  "kernelspec": {
   "display_name": "git-pip",
   "language": "python",
   "name": "python3"
  },
  "language_info": {
   "codemirror_mode": {
    "name": "ipython",
    "version": 3
   },
   "file_extension": ".py",
   "mimetype": "text/x-python",
   "name": "python",
   "nbconvert_exporter": "python",
   "pygments_lexer": "ipython3",
   "version": "3.11.11"
  }
 },
 "nbformat": 4,
 "nbformat_minor": 5
}
