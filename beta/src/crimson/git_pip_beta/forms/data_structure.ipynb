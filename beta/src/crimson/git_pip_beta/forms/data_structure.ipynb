{
 "cells": [
  {
   "cell_type": "markdown",
   "id": "88867d24",
   "metadata": {},
   "source": [
    "현재 team module로 확장가능성이 적음.\n",
    "\n",
    "상관이 있음?\n",
    "\n",
    "이후에 teamspace를 만든다 치면,\n",
    "\n",
    "같은 모듈을 배포하는 user들을 모아다가, 이것을 하나의 모듈그룹으로 보면 됨.\n",
    "\n",
    "그럼 여기서 모듈들을 합쳐주기만 하면 됨."
   ]
  },
  {
   "cell_type": "code",
   "execution_count": 35,
   "id": "215967aa",
   "metadata": {},
   "outputs": [],
   "source": [
    "from sqlalchemy import create_engine, Column, Integer, String, ForeignKey, UniqueConstraint, Boolean\n",
    "from sqlalchemy.orm import declarative_base, relationship, Session, Mapped\n",
    "from typing import *\n",
    "\n",
    "Base = declarative_base()\n",
    "\n",
    "class Module(Base):\n",
    "    __tablename__ = \"modules\"\n",
    "    id = Column(Integer, primary_key=True)\n",
    "    name = Column(String)\n",
    "    owner_id = Column(Integer, ForeignKey(\"users.id\"))\n",
    "    owner = relationship(\"User\", back_populates=\"modules\")\n",
    "\n",
    "\n",
    "class User(Base):\n",
    "    __tablename__ = \"users\"\n",
    "    id = Column(Integer, primary_key=True)\n",
    "    name = Column(String)\n",
    "    modules = relationship(\"Module\", back_populates=\"owner\")\n",
    "\n",
    "user = User(name=\"crimson\")\n"
   ]
  },
  {
   "cell_type": "code",
   "execution_count": 26,
   "id": "1bfc9229",
   "metadata": {},
   "outputs": [],
   "source": [
    "def generate_view_class_code(\n",
    "    model_cls: Type[Any],\n",
    "    include_fields: List[str],\n",
    "    with_setter: bool = True,\n",
    "    with_deleter: bool = False,\n",
    "    class_name: str = None,\n",
    ") -> str:\n",
    "    \"\"\"\n",
    "    Generate a property-based wrapper class definition string for a given SQLAlchemy model.\n",
    "\n",
    "    Args:\n",
    "        model_cls (Type[Any]): The SQLAlchemy model class to wrap.\n",
    "        include_fields (List[str]): List of field names to expose as properties.\n",
    "        with_setter (bool): Whether to generate setter methods for the properties.\n",
    "        with_deleter (bool): Whether to generate deleter methods for the properties.\n",
    "        class_name (str, optional): Custom name for the generated view class. Defaults to {ModelName}View.\n",
    "\n",
    "    Returns:\n",
    "        str: Python source code for the wrapper class definition.\n",
    "    \"\"\"\n",
    "    model_name = model_cls.__name__\n",
    "    view_name = class_name or f\"{model_name}View\"\n",
    "    lines = []\n",
    "\n",
    "    lines.append(f\"class {view_name}:\")\n",
    "    lines.append(f\"    def __init__(self, model: {model_name}):\")\n",
    "    lines.append(f\"        self._model = model\\n\")\n",
    "\n",
    "    for field in include_fields:\n",
    "        lines.append(f\"    @property\")\n",
    "        lines.append(f\"    def {field}(self):\")\n",
    "        lines.append(f'        \"\"\"Access the {field} field.\"\"\"')\n",
    "        lines.append(f\"        return self._model.{field}\\n\")\n",
    "\n",
    "        if with_setter:\n",
    "            lines.append(f\"    @{field}.setter\")\n",
    "            lines.append(f\"    def {field}(self, value):\")\n",
    "            lines.append(f\"        # TODO: Add validation or transformation if needed\")\n",
    "            lines.append(f\"        self._model.{field} = value\\n\")\n",
    "\n",
    "        if with_deleter:\n",
    "            lines.append(f\"    @{field}.deleter\")\n",
    "            lines.append(f\"    def {field}(self):\")\n",
    "            lines.append(f\"        del self._model.{field}\\n\")\n",
    "\n",
    "    return \"\\n\".join(lines)\n"
   ]
  },
  {
   "cell_type": "code",
   "execution_count": 28,
   "id": "203149e0",
   "metadata": {},
   "outputs": [],
   "source": [
    "code = generate_view_class_code(\n",
    "    model_cls=User,\n",
    "    include_fields=[\"id\", \"name\", \"modules\"],\n",
    "    with_setter=True,\n",
    "    with_deleter=True\n",
    ")\n",
    "\n",
    "with open(\"user_view.py\", \"w\") as f:\n",
    "    f.write(code)\n"
   ]
  },
  {
   "cell_type": "code",
   "execution_count": 46,
   "id": "1c7a5829",
   "metadata": {},
   "outputs": [],
   "source": [
    "from typing import get_type_hints, Any\n",
    "\n",
    "def extract_fields(cls: type) -> dict[str, Any]:\n",
    "    \"\"\"\n",
    "    Generalized field extractor:\n",
    "    - Supports dataclasses, Pydantic models, and regular Python classes.\n",
    "    \"\"\"\n",
    "    try:\n",
    "        # dataclass\n",
    "        from dataclasses import is_dataclass, fields as dc_fields\n",
    "        if is_dataclass(cls):\n",
    "            return {f.name: f.type for f in dc_fields(cls)}\n",
    "\n",
    "        # Pydantic\n",
    "        if hasattr(cls, \"__fields__\"):  # Pydantic BaseModel\n",
    "            return {k: v.outer_type_ for k, v in cls.__fields__.items()}\n",
    "\n",
    "        # General Python class\n",
    "        return get_type_hints(cls)\n",
    "\n",
    "    except Exception:\n",
    "        return {}\n",
    "\n"
   ]
  },
  {
   "cell_type": "code",
   "execution_count": 62,
   "id": "d73b98f4",
   "metadata": {},
   "outputs": [],
   "source": [
    "def get_sqlalchemy_model_fields(cls):\n",
    "    column_fields = list(cls.__table__.columns.keys())\n",
    "    relationship_fields = list(cls.__mapper__.relationships.keys())\n",
    "    return {\n",
    "        \"columns\": column_fields,\n",
    "        \"relationships\": relationship_fields,\n",
    "    }\n"
   ]
  },
  {
   "cell_type": "code",
   "execution_count": 63,
   "id": "e8f30de5",
   "metadata": {},
   "outputs": [
    {
     "data": {
      "text/plain": [
       "{'columns': ['id', 'name'], 'relationships': ['modules']}"
      ]
     },
     "execution_count": 63,
     "metadata": {},
     "output_type": "execute_result"
    }
   ],
   "source": [
    "get_sqlalchemy_model_fields(User)"
   ]
  },
  {
   "cell_type": "code",
   "execution_count": 64,
   "id": "dce25e6b",
   "metadata": {},
   "outputs": [],
   "source": [
    "def get_sqlalchemy_field_types(cls):\n",
    "    columns = {\n",
    "        col.name: col.type.python_type.__name__\n",
    "        for col in cls.__table__.columns\n",
    "    }\n",
    "    relationships = {\n",
    "        rel.key: f\"List[{rel.mapper.class_.__name__}]\" if rel.uselist else rel.mapper.class_.__name__\n",
    "        for rel in cls.__mapper__.relationships\n",
    "    }\n",
    "    return {**columns, **relationships}\n"
   ]
  },
  {
   "cell_type": "code",
   "execution_count": 65,
   "id": "22958862",
   "metadata": {},
   "outputs": [
    {
     "data": {
      "text/plain": [
       "{'id': 'int', 'name': 'str', 'modules': 'List[Module]'}"
      ]
     },
     "execution_count": 65,
     "metadata": {},
     "output_type": "execute_result"
    }
   ],
   "source": [
    "get_sqlalchemy_field_types(User)"
   ]
  },
  {
   "cell_type": "code",
   "execution_count": null,
   "id": "eb6d6ffa",
   "metadata": {},
   "outputs": [],
   "source": []
  },
  {
   "cell_type": "code",
   "execution_count": 1,
   "id": "4dac2012",
   "metadata": {},
   "outputs": [],
   "source": [
    "from sqlalchemy import create_engine, Column, Integer, String, ForeignKey, UniqueConstraint, Boolean\n",
    "from sqlalchemy.orm import declarative_base, relationship, Session, Mapped\n",
    "from typing import *\n",
    "\n",
    "Base = declarative_base()\n",
    "\n",
    "class User(Base):\n",
    "    __tablename__ = \"users\"\n",
    "    id = Column(Integer, primary_key=True)\n",
    "    name = Column(String)\n",
    "    modules = relationship(\"Module\", back_populates=\"owner\")\n",
    "\n",
    "# --- Module ---\n",
    "class Module(Base):\n",
    "    __tablename__ = \"modules\"\n",
    "    id = Column(Integer, primary_key=True)\n",
    "    name = Column(String)\n",
    "    owner_id = Column(Integer, ForeignKey(\"users.id\"))\n",
    "    repository = Column(String)\n",
    "    index_url_base = Column(String)\n",
    "\n",
    "    owner: Mapped[User] = relationship(\"User\", back_populates=\"modules\")\n",
    "    categories: Mapped[List['Category']] = relationship(\"Category\", back_populates=\"module\")\n",
    "\n",
    "    __table_args__ = (\n",
    "        UniqueConstraint(\"owner_id\", \"repository\", name=\"uq_owner_repo\"),\n",
    "    )\n",
    "\n",
    "    # Property: collect releases from assembled categories only\n",
    "    @property\n",
    "    def assembled_releases(self) -> List['Release']:\n",
    "        return [release\n",
    "                for category in self.categories\n",
    "                if category.assembled\n",
    "                for release in category.releases]\n",
    "\n",
    "\n",
    "# --- Category ---\n",
    "class Category(Base):\n",
    "    __tablename__ = \"categories\"\n",
    "    id = Column(Integer, primary_key=True)\n",
    "    name = Column(String)  # e.g., dev, prod\n",
    "    module_id = Column(Integer, ForeignKey(\"modules.id\"))\n",
    "    index_url = Column(String)\n",
    "    assembled = Column(Boolean, default=True)\n",
    "\n",
    "    module: Mapped[Module] = relationship(\"Module\", back_populates=\"categories\")\n",
    "    releases: Mapped[List['Release']] = relationship(\"Release\", back_populates=\"category\")\n",
    "\n",
    "\n",
    "# --- Release ---\n",
    "class Release(Base):\n",
    "    __tablename__ = \"releases\"\n",
    "    id = Column(Integer, primary_key=True)\n",
    "    category_id = Column(Integer, ForeignKey(\"categories.id\"))\n",
    "    version = Column(String)  # e.g., \"1.0.0\"\n",
    "    commit = Column(String)   # commit hash\n",
    "\n",
    "    category: Mapped[Category] = relationship(\"Category\", back_populates=\"releases\")\n",
    "\n",
    "    # Convenience property for reverse access\n",
    "    @property\n",
    "    def module(self) -> Module:\n",
    "        return self.category.module if self.category else None\n",
    "\n",
    "    __table_args__ = (\n",
    "        UniqueConstraint(\"category_id\", \"version\", name=\"uq_category_version\"),\n",
    "    )"
   ]
  },
  {
   "cell_type": "code",
   "execution_count": 2,
   "id": "4b64dc6d",
   "metadata": {},
   "outputs": [],
   "source": [
    "def validate_release(new_release: Release):\n",
    "    if not new_release.category.assembled:\n",
    "        return\n",
    "    module = new_release.category.module\n",
    "    for cat in module.categories:\n",
    "        if not cat.assembled:\n",
    "            continue\n",
    "        for rel in cat.releases:\n",
    "            if rel.version == new_release.version:\n",
    "                raise ValueError(f\"Version {rel.version} already exists in assembled category '{cat.name}'\")\n",
    "\n",
    "def validate_category_assembly_change(category: Category, to_assembled: bool) -> None:\n",
    "    if not to_assembled:\n",
    "        return  # False → True가 아닌 경우는 무조건 OK\n",
    "\n",
    "    # True로 바꾸려는 경우, 해당 카테고리의 version들이 기존 assembled들과 충돌하는지 확인\n",
    "    version_set = {rel.version for rel in category.releases}\n",
    "    for cat in category.module.categories:\n",
    "        if cat.id == category.id or not cat.assembled:\n",
    "            continue\n",
    "        for rel in cat.releases:\n",
    "            if rel.version in version_set:\n",
    "                raise ValueError(\n",
    "                    f\"Cannot assemble category '{category.name}': version '{rel.version}' \"\n",
    "                    f\"already exists in assembled category '{cat.name}'\"\n",
    "                )\n"
   ]
  },
  {
   "cell_type": "code",
   "execution_count": 3,
   "id": "6a007c22",
   "metadata": {},
   "outputs": [
    {
     "data": {
      "text/plain": [
       "[]"
      ]
     },
     "execution_count": 3,
     "metadata": {},
     "output_type": "execute_result"
    }
   ],
   "source": [
    "from sqlalchemy.orm import Session\n",
    "from sqlalchemy.exc import InvalidRequestError\n",
    "\n",
    "engine = create_engine(\"sqlite:///:memory:\")\n",
    "Base.metadata.create_all(engine)\n",
    "\n",
    "class ReadOnlySession(Session):\n",
    "    # def flush(self, *args, **kwargs):\n",
    "    #    raise InvalidRequestError(\"Read-only session: flush() is disabled\")\n",
    "\n",
    "    def commit(self):\n",
    "        raise InvalidRequestError(\"Read-only session: commit() is disabled\")\n",
    "\n",
    "    #def delete(self, instance):\n",
    "    #    raise InvalidRequestError(\"Read-only session: delete() is disabled\")\n",
    "\n",
    "session = ReadOnlySession(engine)\n",
    "\n",
    "user = User(name=\"crimson\")\n",
    "session.add(user)\n",
    "# session.commit()\n",
    "\n",
    "session.query(User).all()\n",
    "# ro_session.commit()  # ❌ 예외 발생\n",
    "\n",
    "session.delete(user)  # ❗ DB에는 아직 아무 일도 안 일어남\n",
    "session.query(User).all()  # ✅ 여전히 보일 수도 있음 (autoflush 여부에 따라 다름)\n",
    "\n"
   ]
  },
  {
   "cell_type": "code",
   "execution_count": null,
   "id": "e919811b",
   "metadata": {},
   "outputs": [],
   "source": []
  },
  {
   "cell_type": "code",
   "execution_count": 18,
   "id": "043dae8b",
   "metadata": {},
   "outputs": [
    {
     "data": {
      "text/plain": [
       "[<__main__.User at 0x7fc417482b90>]"
      ]
     },
     "execution_count": 18,
     "metadata": {},
     "output_type": "execute_result"
    }
   ],
   "source": [
    "engine = create_engine(\"sqlite:///:memory:\")\n",
    "Base.metadata.create_all(engine)\n",
    "\n",
    "session = Session(engine)\n",
    "\n",
    "user = User(name=\"crimson\")\n",
    "session.add(user)\n",
    "\n",
    "session.query(User).all()"
   ]
  },
  {
   "cell_type": "code",
   "execution_count": 3,
   "id": "9d83e935",
   "metadata": {},
   "outputs": [],
   "source": [
    "engine = create_engine(\"sqlite:///:memory:\")\n",
    "Base.metadata.create_all(engine)\n",
    "\n",
    "session = Session(engine)\n",
    "\n",
    "user = User(name=\"crimson\")\n",
    "session.add(user)\n",
    "session.commit()\n",
    "\n",
    "# Create module\n",
    "module = Module(name=\"crimson-lib\", owner=user, repository=\"crimson-lib\", index_url_base=\"https://example.com/simple/\")\n",
    "session.add(module)\n",
    "session.commit()\n",
    "\n",
    "# Create categories\n",
    "cat_dev = Category(name=\"dev\", module=module, index_url=\"https://example.com/simple/dev/\", assembled=True)\n",
    "cat_test = Category(name=\"test\", module=module, index_url=\"https://example.com/simple/test/\", assembled=True)\n",
    "session.add_all([cat_dev, cat_test])\n",
    "session.commit()\n",
    "\n",
    "# Add releases\n",
    "rel1 = Release(version=\"1.0.0\", commit=\"abcd1234\", category=cat_dev)\n",
    "session.add(rel1)\n",
    "rel2 = Release(version=\"1.0.0\", commit=\"efgh5678\", category=cat_test)\n",
    "\n"
   ]
  },
  {
   "cell_type": "code",
   "execution_count": null,
   "id": "7dfbaa26",
   "metadata": {},
   "outputs": [],
   "source": []
  },
  {
   "cell_type": "code",
   "execution_count": 4,
   "id": "98a80962",
   "metadata": {},
   "outputs": [
    {
     "name": "stderr",
     "output_type": "stream",
     "text": [
      "/tmp/ipykernel_52237/2762896537.py:2: SAWarning: Object of type <Release> not in session, add operation along 'Category.releases' will not proceed (This warning originated from the Session 'autoflush' process, which was invoked automatically in response to a user-initiated operation. Consider using ``no_autoflush`` context manager if this warning happended while initializing objects.)\n",
      "  if not new_release.category.assembled:\n"
     ]
    },
    {
     "ename": "ValueError",
     "evalue": "Version 1.0.0 already exists in assembled category 'dev'",
     "output_type": "error",
     "traceback": [
      "\u001b[31m---------------------------------------------------------------------------\u001b[39m",
      "\u001b[31mValueError\u001b[39m                                Traceback (most recent call last)",
      "\u001b[36mCell\u001b[39m\u001b[36m \u001b[39m\u001b[32mIn[4]\u001b[39m\u001b[32m, line 1\u001b[39m\n\u001b[32m----> \u001b[39m\u001b[32m1\u001b[39m \u001b[43mvalidate_release\u001b[49m\u001b[43m(\u001b[49m\u001b[43mrel2\u001b[49m\u001b[43m)\u001b[49m\n",
      "\u001b[36mCell\u001b[39m\u001b[36m \u001b[39m\u001b[32mIn[2]\u001b[39m\u001b[32m, line 10\u001b[39m, in \u001b[36mvalidate_release\u001b[39m\u001b[34m(new_release)\u001b[39m\n\u001b[32m      8\u001b[39m \u001b[38;5;28;01mfor\u001b[39;00m rel \u001b[38;5;129;01min\u001b[39;00m cat.releases:\n\u001b[32m      9\u001b[39m     \u001b[38;5;28;01mif\u001b[39;00m rel.version == new_release.version:\n\u001b[32m---> \u001b[39m\u001b[32m10\u001b[39m         \u001b[38;5;28;01mraise\u001b[39;00m \u001b[38;5;167;01mValueError\u001b[39;00m(\u001b[33mf\u001b[39m\u001b[33m\"\u001b[39m\u001b[33mVersion \u001b[39m\u001b[38;5;132;01m{\u001b[39;00mrel.version\u001b[38;5;132;01m}\u001b[39;00m\u001b[33m already exists in assembled category \u001b[39m\u001b[33m'\u001b[39m\u001b[38;5;132;01m{\u001b[39;00mcat.name\u001b[38;5;132;01m}\u001b[39;00m\u001b[33m'\u001b[39m\u001b[33m\"\u001b[39m)\n",
      "\u001b[31mValueError\u001b[39m: Version 1.0.0 already exists in assembled category 'dev'"
     ]
    }
   ],
   "source": [
    "validate_release(rel2)"
   ]
  },
  {
   "cell_type": "code",
   "execution_count": null,
   "id": "5b3208f0",
   "metadata": {},
   "outputs": [],
   "source": [
    "session.add(rel2)\n",
    "rel3 = Release(version=\"1.0.1\", commit=\"ijkl9012\", category=cat_test)\n",
    "session.add(rel3)\n"
   ]
  },
  {
   "cell_type": "code",
   "execution_count": null,
   "id": "70ccb4a7",
   "metadata": {},
   "outputs": [],
   "source": [
    "session.commit()\n"
   ]
  },
  {
   "cell_type": "code",
   "execution_count": 7,
   "id": "1fcd9703",
   "metadata": {},
   "outputs": [],
   "source": [
    "rel2_queried = session.query(Release).filter(Release.commit==\"efgh5678\").first()"
   ]
  },
  {
   "cell_type": "code",
   "execution_count": 8,
   "id": "08aaffa9",
   "metadata": {},
   "outputs": [
    {
     "data": {
      "text/plain": [
       "<__main__.Category at 0x7fd500c3e9d0>"
      ]
     },
     "execution_count": 8,
     "metadata": {},
     "output_type": "execute_result"
    }
   ],
   "source": [
    "rel2_queried.category"
   ]
  },
  {
   "cell_type": "code",
   "execution_count": 6,
   "id": "2d9abfc9",
   "metadata": {},
   "outputs": [],
   "source": [
    "# --- Setup and example usage ---\n",
    "engine = create_engine(\"sqlite:///:memory:\")\n",
    "Base.metadata.create_all(engine)\n",
    "\n",
    "\n",
    "user = User(name=\"crimson\")\n",
    "session.add(user)\n",
    "session.commit()\n",
    "\n",
    "# Create module\n",
    "module = Module(name=\"crimson-lib\", owner=user, repository=\"crimson-lib\", index_url_base=\"https://example.com/simple/\")\n",
    "session.add(module)\n",
    "session.commit()\n",
    "\n",
    "# Create categories\n",
    "cat_dev = Category(name=\"dev\", module=module, index_url=\"https://example.com/simple/dev/\", assembled=False)\n",
    "cat_test = Category(name=\"test\", module=module, index_url=\"https://example.com/simple/test/\", assembled=True)\n",
    "session.add_all([cat_dev, cat_test])\n",
    "session.commit()\n",
    "\n",
    "# Add releases\n",
    "rel1 = Release(version=\"1.0.0\", commit=\"abcd1234\", category=cat_dev)\n",
    "rel2 = Release(version=\"1.0.0\", commit=\"efgh5678\", category=cat_test)\n",
    "rel3 = Release(version=\"1.0.1\", commit=\"ijkl9012\", category=cat_test)\n",
    "session.add_all([rel1, rel2, rel3])\n",
    "\n",
    "\n"
   ]
  },
  {
   "cell_type": "code",
   "execution_count": 8,
   "id": "675646a6",
   "metadata": {},
   "outputs": [],
   "source": [
    "cat_test.assembled = False"
   ]
  },
  {
   "cell_type": "code",
   "execution_count": 9,
   "id": "b84d9fd5",
   "metadata": {},
   "outputs": [],
   "source": [
    "validate_category_assembly_change(cat_dev, to_assembled=True)"
   ]
  },
  {
   "cell_type": "code",
   "execution_count": null,
   "id": "1c56e6c5",
   "metadata": {},
   "outputs": [],
   "source": [
    "\n"
   ]
  },
  {
   "cell_type": "code",
   "execution_count": null,
   "id": "c3d9ddb6",
   "metadata": {},
   "outputs": [],
   "source": []
  },
  {
   "cell_type": "code",
   "execution_count": null,
   "id": "72853d9e",
   "metadata": {},
   "outputs": [],
   "source": []
  },
  {
   "cell_type": "code",
   "execution_count": 4,
   "id": "27e7d8ae",
   "metadata": {},
   "outputs": [
    {
     "data": {
      "text/plain": [
       "[\"All categories for module 'crimson-lib': ['dev', 'test']\",\n",
       " \"All assembled releases: ['1.0.0', '1.0.0', '1.0.1']\"]"
      ]
     },
     "execution_count": 4,
     "metadata": {},
     "output_type": "execute_result"
    }
   ],
   "source": [
    "# --- Setup and example usage ---\n",
    "engine = create_engine(\"sqlite:///:memory:\")\n",
    "Base.metadata.create_all(engine)\n",
    "\n",
    "results = []\n",
    "with Session(engine) as session:\n",
    "    # Create user\n",
    "    user = User(name=\"crimson\")\n",
    "    session.add(user)\n",
    "    session.commit()\n",
    "\n",
    "    # Create module\n",
    "    module = Module(name=\"crimson-lib\", owner=user, repository=\"crimson-lib\", index_url_base=\"https://example.com/simple/\")\n",
    "    session.add(module)\n",
    "    session.commit()\n",
    "\n",
    "    # Create categories\n",
    "    cat_dev = Category(name=\"dev\", module=module, index_url=\"https://example.com/simple/dev/\", assembled=True)\n",
    "    cat_test = Category(name=\"test\", module=module, index_url=\"https://example.com/simple/test/\", assembled=True)\n",
    "    session.add_all([cat_dev, cat_test])\n",
    "    session.commit()\n",
    "\n",
    "    # Add releases\n",
    "    rel1 = Release(version=\"1.0.0\", commit=\"abcd1234\", category=cat_dev)\n",
    "    rel2 = Release(version=\"1.0.0\", commit=\"efgh5678\", category=cat_test)\n",
    "    rel3 = Release(version=\"1.0.1\", commit=\"ijkl9012\", category=cat_test)\n",
    "    session.add_all([rel1, rel2, rel3])\n",
    "    session.commit()\n",
    "\n",
    "    # Demonstrate access\n",
    "    results.append(f\"All categories for module '{module.name}': {[c.name for c in module.categories]}\")\n",
    "    results.append(f\"All assembled releases: {[r.version for r in module.assembled_releases]}\")\n",
    "\n",
    "results\n"
   ]
  },
  {
   "cell_type": "code",
   "execution_count": null,
   "id": "1b0599ba",
   "metadata": {},
   "outputs": [],
   "source": []
  },
  {
   "cell_type": "code",
   "execution_count": 4,
   "id": "3c4a518a",
   "metadata": {},
   "outputs": [],
   "source": [
    "ALL_SESSIONS = []\n",
    "\n",
    "def create_session():\n",
    "    session = Session(engine)\n",
    "    ALL_SESSIONS.append(session)\n",
    "    return session"
   ]
  },
  {
   "cell_type": "code",
   "execution_count": 5,
   "id": "1e45096e",
   "metadata": {},
   "outputs": [],
   "source": [
    "session1 = create_session()"
   ]
  },
  {
   "cell_type": "code",
   "execution_count": 7,
   "id": "29495024",
   "metadata": {},
   "outputs": [],
   "source": [
    "modules = session1.query(Module).all()"
   ]
  },
  {
   "cell_type": "code",
   "execution_count": 9,
   "id": "6cf7c4a8",
   "metadata": {},
   "outputs": [
    {
     "data": {
      "text/plain": [
       "[<__main__.Release at 0x7f1c544f4790>, <__main__.Release at 0x7f1c3d86d850>]"
      ]
     },
     "execution_count": 9,
     "metadata": {},
     "output_type": "execute_result"
    }
   ],
   "source": [
    "modules[0].assembled_releases"
   ]
  },
  {
   "cell_type": "code",
   "execution_count": null,
   "id": "b6e44f35",
   "metadata": {},
   "outputs": [],
   "source": []
  },
  {
   "cell_type": "code",
   "execution_count": 2,
   "id": "7cdc296f",
   "metadata": {},
   "outputs": [
    {
     "name": "stdout",
     "output_type": "stream",
     "text": [
      "Release version: 1.0.0\n",
      "Module name: crimson-file-loader\n",
      "Owner name: crimson206\n"
     ]
    }
   ],
   "source": [
    "with Session(engine) as session:\n",
    "    release = session.query(Release).filter_by(version=\"1.0.0\").first()\n",
    "    print(\"Release version:\", release.version)\n",
    "    print(\"Module name:\", release.module.name)\n",
    "    print(\"Owner name:\", release.module.owner.name)\n"
   ]
  },
  {
   "cell_type": "markdown",
   "id": "fe18255f",
   "metadata": {},
   "source": [
    "Team Extension"
   ]
  },
  {
   "cell_type": "code",
   "execution_count": null,
   "id": "8c5aa8fd",
   "metadata": {},
   "outputs": [],
   "source": [
    "from sqlalchemy import create_engine, Column, Integer, String, ForeignKey, Table\n",
    "from sqlalchemy.orm import declarative_base, relationship\n",
    "\n",
    "Base = declarative_base()\n",
    "\n",
    "# Association table between User and Team\n",
    "class TeamMember(Base):\n",
    "    __tablename__ = \"team_members\"\n",
    "    id = Column(Integer, primary_key=True)\n",
    "    user_id = Column(Integer, ForeignKey(\"users.id\"))\n",
    "    team_id = Column(Integer, ForeignKey(\"teams.id\"))\n",
    "    role = Column(String)  # optional: \"owner\", \"member\", etc.\n",
    "\n",
    "# Team definition\n",
    "class Team(Base):\n",
    "    __tablename__ = \"teams\"\n",
    "    id = Column(Integer, primary_key=True)\n",
    "    name = Column(String)\n",
    "    members = relationship(\"User\", secondary=\"team_members\", back_populates=\"teams\")\n",
    "    modules = relationship(\"TeamModule\", back_populates=\"team\")\n",
    "\n",
    "# Team-owned module, still extending from base\n",
    "class TeamModule(Base):\n",
    "    __tablename__ = \"team_modules\"\n",
    "    id = Column(Integer, primary_key=True)\n",
    "\n",
    "    # 기존 Module을 가리키는 외래키 (공통 정의 기반)\n",
    "    module_id = Column(Integer, ForeignKey(\"modules.id\"))\n",
    "    team_id = Column(Integer, ForeignKey(\"teams.id\"))\n",
    "\n",
    "    module = relationship(\"Module\")  # 자세한 정보는 이쪽에서 가져옴\n",
    "    team = relationship(\"Team\", back_populates=\"modules\")\n",
    "\n"
   ]
  }
 ],
 "metadata": {
  "kernelspec": {
   "display_name": "git-pip",
   "language": "python",
   "name": "python3"
  },
  "language_info": {
   "codemirror_mode": {
    "name": "ipython",
    "version": 3
   },
   "file_extension": ".py",
   "mimetype": "text/x-python",
   "name": "python",
   "nbconvert_exporter": "python",
   "pygments_lexer": "ipython3",
   "version": "3.11.11"
  }
 },
 "nbformat": 4,
 "nbformat_minor": 5
}
