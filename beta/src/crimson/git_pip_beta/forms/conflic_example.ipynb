{
 "cells": [
  {
   "cell_type": "code",
   "execution_count": 6,
   "id": "7ccd333e",
   "metadata": {},
   "outputs": [
    {
     "data": {
      "text/plain": [
       "\"Conflict detected: UPDATE statement on table 'counters' expected to update 1 row(s); 0 were matched.\""
      ]
     },
     "execution_count": 6,
     "metadata": {},
     "output_type": "execute_result"
    }
   ],
   "source": [
    "from sqlalchemy import create_engine, Column, Integer\n",
    "from sqlalchemy.orm import declarative_base, Session\n",
    "\n",
    "Base = declarative_base()\n",
    "\n",
    "# Simple table for demo\n",
    "class Counter(Base):\n",
    "    __tablename__ = \"counters\"\n",
    "    id = Column(Integer, primary_key=True)\n",
    "    value = Column(Integer)\n",
    "    version = Column(Integer, nullable=False, default=1)\n",
    "\n",
    "    __mapper_args__ = {\n",
    "        \"version_id_col\": version\n",
    "    }\n",
    "\n",
    "# Set up in-memory SQLite and create the table\n",
    "engine = create_engine(\"sqlite:///:memory:\", echo=False)\n",
    "Base.metadata.create_all(engine)\n",
    "\n",
    "# Insert initial value\n",
    "with Session(engine) as session:\n",
    "    session.add(Counter(id=1, value=0))\n",
    "    session.commit()\n",
    "\n",
    "# Simulate two separate sessions modifying the same row\n",
    "with Session(engine) as s1, Session(engine) as s2:\n",
    "    c1 = s1.get(Counter, 1)\n",
    "    c2 = s2.get(Counter, 1)\n",
    "\n",
    "    # Session 1 modifies and commits\n",
    "    c1.value += 1\n",
    "    s1.commit()\n",
    "\n",
    "    # Session 2 modifies the old value (stale copy)\n",
    "    c2.value += 10\n",
    "    try:\n",
    "        s2.commit()\n",
    "        result = \"No error raised. Final value in DB = \" + str(s2.get(Counter, 1).value)\n",
    "    except Exception as e:\n",
    "        result = f\"Conflict detected: {e}\"\n",
    "\n",
    "result\n"
   ]
  },
  {
   "cell_type": "markdown",
   "id": "f39af830",
   "metadata": {},
   "source": [
    "1+10=11 이어야 함. session가 덮어 써버림."
   ]
  },
  {
   "cell_type": "code",
   "execution_count": null,
   "id": "5995d4ea",
   "metadata": {},
   "outputs": [
    {
     "data": {
      "text/plain": [
       "'No error raised. Final value in DB = 11'"
      ]
     },
     "execution_count": 7,
     "metadata": {},
     "output_type": "execute_result"
    }
   ],
   "source": [
    "from sqlalchemy import create_engine, Column, Integer\n",
    "from sqlalchemy.orm import declarative_base, Session\n",
    "\n",
    "Base = declarative_base()\n",
    "\n",
    "# Simple table for demo\n",
    "class Counter(Base):\n",
    "    __tablename__ = \"counters\"\n",
    "    id = Column(Integer, primary_key=True)\n",
    "    value = Column(Integer)\n",
    "    version = Column(Integer, nullable=False, default=1)\n",
    "\n",
    "    __mapper_args__ = {\n",
    "        \"version_id_col\": version\n",
    "    }\n",
    "\n",
    "# Set up in-memory SQLite and create the table\n",
    "engine = create_engine(\"sqlite:///:memory:\", echo=False)\n",
    "Base.metadata.create_all(engine)\n",
    "\n",
    "# Insert initial value\n",
    "with Session(engine) as session:\n",
    "    session.add(Counter(id=1, value=0))\n",
    "    session.commit()\n",
    "\n",
    "# Simulate two separate sessions modifying the same row\n",
    "with Session(engine) as s1, Session(engine) as s2:\n",
    "    c1 = s1.get(Counter, 1)\n",
    "\n",
    "    # Session 1 modifies and commits\n",
    "    c1.value += 1\n",
    "    s1.commit()\n",
    "\n",
    "    # Session 2 modifies the old value (stale copy)\n",
    "    c2 = s2.get(Counter, 1)\n",
    "    c2.value += 10\n",
    "    try:\n",
    "        s2.commit()\n",
    "        result = \"No error raised. Final value in DB = \" + str(s2.get(Counter, 1).value)\n",
    "    except Exception as e:\n",
    "        result = f\"Conflict detected: {e}\"\n",
    "\n",
    "result"
   ]
  },
  {
   "cell_type": "code",
   "execution_count": 38,
   "id": "2467e533",
   "metadata": {},
   "outputs": [],
   "source": [
    "ALL_SESSIONS = []\n",
    "\n",
    "def create_session():\n",
    "    session = Session(engine)\n",
    "    ALL_SESSIONS.append(session)\n",
    "    return session\n"
   ]
  },
  {
   "cell_type": "code",
   "execution_count": 39,
   "id": "0be02ab8",
   "metadata": {},
   "outputs": [],
   "source": [
    "session1 = create_session()"
   ]
  },
  {
   "cell_type": "code",
   "execution_count": 40,
   "id": "c23ca2cc",
   "metadata": {},
   "outputs": [
    {
     "data": {
      "text/plain": [
       "<sqlalchemy.orm.session.Session at 0x7ffbd9d54650>"
      ]
     },
     "execution_count": 40,
     "metadata": {},
     "output_type": "execute_result"
    }
   ],
   "source": [
    "session1"
   ]
  }
 ],
 "metadata": {
  "kernelspec": {
   "display_name": "git-pip",
   "language": "python",
   "name": "python3"
  },
  "language_info": {
   "codemirror_mode": {
    "name": "ipython",
    "version": 3
   },
   "file_extension": ".py",
   "mimetype": "text/x-python",
   "name": "python",
   "nbconvert_exporter": "python",
   "pygments_lexer": "ipython3",
   "version": "3.11.11"
  }
 },
 "nbformat": 4,
 "nbformat_minor": 5
}
