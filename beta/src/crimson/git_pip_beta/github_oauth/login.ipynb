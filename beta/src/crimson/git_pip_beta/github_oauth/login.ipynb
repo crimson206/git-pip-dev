{
 "cells": [
  {
   "cell_type": "code",
   "execution_count": null,
   "id": "0b54ba20",
   "metadata": {},
   "outputs": [],
   "source": []
  },
  {
   "cell_type": "code",
   "execution_count": null,
   "id": "9034f5d7",
   "metadata": {},
   "outputs": [],
   "source": []
  },
  {
   "cell_type": "code",
   "execution_count": 8,
   "id": "f354632e",
   "metadata": {},
   "outputs": [
    {
     "data": {
      "text/plain": [
       "True"
      ]
     },
     "execution_count": 8,
     "metadata": {},
     "output_type": "execute_result"
    }
   ],
   "source": [
    "from passlib.hash import bcrypt\n",
    "\n",
    "# 저장할 때\n",
    "hashed = bcrypt.hash(\"user-password\")  # 복호화 불가\n",
    "\n",
    "# 로그인 시 검증\n",
    "bcrypt.verify(\"user-password\", hashed)  # 입력값과 해시 비교\n"
   ]
  }
 ],
 "metadata": {
  "kernelspec": {
   "display_name": "git-pip",
   "language": "python",
   "name": "python3"
  },
  "language_info": {
   "codemirror_mode": {
    "name": "ipython",
    "version": 3
   },
   "file_extension": ".py",
   "mimetype": "text/x-python",
   "name": "python",
   "nbconvert_exporter": "python",
   "pygments_lexer": "ipython3",
   "version": "3.11.11"
  }
 },
 "nbformat": 4,
 "nbformat_minor": 5
}
