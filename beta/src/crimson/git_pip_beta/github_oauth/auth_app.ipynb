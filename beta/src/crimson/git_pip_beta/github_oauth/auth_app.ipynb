{
 "cells": [
  {
   "cell_type": "code",
   "execution_count": null,
   "id": "5623c64a",
   "metadata": {},
   "outputs": [],
   "source": [
    "from fastapi import FastAPI\n",
    "from fastapi.responses import RedirectResponse, JSONResponse\n",
    "import httpx\n",
    "import os\n",
    "from cryptography.fernet import Fernet\n",
    "from pathlib import Path\n",
    "from dotenv import loadenv\n",
    "\n",
    "app = FastAPI()\n",
    "\n",
    "# 환경변수에서 정보 로드\n",
    "CLIENT_ID = os.getenv(\"GITHUB_CLIENT_ID\")\n",
    "CLIENT_SECRET = os.getenv(\"GITHUB_CLIENT_SECRET\")\n",
    "FERNET_KEY = os.getenv(\"FERNET_KEY\")  # 32-byte base64-encoded key\n",
    "\n",
    "FERNET_KEY_FILE = Path(\"fernet.key\")\n",
    "\n",
    "if FERNET_KEY_FILE.exists():\n",
    "    FERNET_KEY = FERNET_KEY_FILE.read_bytes()\n",
    "else:\n",
    "    FERNET_KEY = Fernet.generate_key()\n",
    "    FERNET_KEY_FILE.write_bytes(FERNET_KEY)\n",
    "\n",
    "fernet = Fernet(FERNET_KEY)\n",
    "\n",
    "\n",
    "fernet = Fernet(FERNET_KEY)\n",
    "\n",
    "# 토큰 저장 파일 (간단한 파일 저장 예시, 실전은 DB 권장)\n",
    "TOKEN_FILE = Path(\"token.enc\")\n",
    "\n",
    "@app.get(\"/login/github\")\n",
    "def login():\n",
    "    return RedirectResponse(\n",
    "        f\"https://github.com/login/oauth/authorize\"\n",
    "        f\"?client_id={CLIENT_ID}\"\n",
    "        f\"&redirect_uri=http://localhost:8000/auth/github/callback\"\n",
    "        f\"&scope=repo\"\n",
    "    )\n",
    "\n",
    "@app.get(\"/auth/github/callback\")\n",
    "async def github_callback(code: str):\n",
    "    async with httpx.AsyncClient() as client:\n",
    "        # 1. access token 요청\n",
    "        token_resp = await client.post(\n",
    "            \"https://github.com/login/oauth/access_token\",\n",
    "            headers={\"Accept\": \"application/json\"},\n",
    "            json={\n",
    "                \"client_id\": CLIENT_ID,\n",
    "                \"client_secret\": CLIENT_SECRET,\n",
    "                \"code\": code,\n",
    "            },\n",
    "        )\n",
    "        token_json = token_resp.json()\n",
    "        access_token = token_json.get(\"access_token\")\n",
    "        if not access_token:\n",
    "            return JSONResponse({\"error\": \"No access token received\"}, status_code=400)\n",
    "\n",
    "        # 2. access token 암호화 & 저장\n",
    "        encrypted = fernet.encrypt(access_token.encode())\n",
    "        TOKEN_FILE.write_bytes(encrypted)\n",
    "\n",
    "        # 3. 유저 정보 요청\n",
    "        user_resp = await client.get(\n",
    "            \"https://api.github.com/user\",\n",
    "            headers={\"Authorization\": f\"Bearer {access_token}\"},\n",
    "        )\n",
    "        user_info = user_resp.json()\n",
    "\n",
    "        return {\n",
    "            \"message\": \"Login successful. Access token encrypted and saved.\",\n",
    "            \"user\": user_info,\n",
    "        }\n",
    "\n",
    "@app.get(\"/use-token\")\n",
    "async def use_token():\n",
    "    if not TOKEN_FILE.exists():\n",
    "        return JSONResponse({\"error\": \"No stored token\"}, status_code=404)\n",
    "\n",
    "    # 4. 복호화된 token 사용 예시 (리포 생성 등)\n",
    "    encrypted = TOKEN_FILE.read_bytes()\n",
    "    access_token = fernet.decrypt(encrypted).decode()\n",
    "\n",
    "    async with httpx.AsyncClient() as client:\n",
    "        repo_resp = await client.post(\n",
    "            \"https://api.github.com/user/repos\",\n",
    "            headers={\n",
    "                \"Authorization\": f\"Bearer {access_token}\",\n",
    "                \"Accept\": \"application/vnd.github+json\"\n",
    "            },\n",
    "            json={\n",
    "                \"name\": \"my-new-repo-from-fastapi\",\n",
    "                \"private\": False,\n",
    "                \"description\": \"Created via encrypted token\",\n",
    "            },\n",
    "        )\n",
    "        return repo_resp.json()\n"
   ]
  },
  {
   "cell_type": "code",
   "execution_count": 1,
   "id": "02debfc4",
   "metadata": {},
   "outputs": [],
   "source": [
    "from cryptography.fernet import Fernet\n",
    "\n"
   ]
  },
  {
   "cell_type": "code",
   "execution_count": null,
   "id": "d7f1b976",
   "metadata": {},
   "outputs": [],
   "source": [
    "# 예시 키 생성 (프로덕션에서는 .env에서 불러옴)\n",
    "fernet = Fernet(os.environ[\"FERNET_KEY\"])\n",
    "\n",
    "encrypted_token = fernet.encrypt(access_token.encode())\n",
    "# 저장: encrypted_token → DB or local file\n",
    "\n",
    "decrypted_token = fernet.decrypt(encrypted_token).decode()\n",
    "# → GitHub API에 사용 가능"
   ]
  },
  {
   "cell_type": "code",
   "execution_count": 4,
   "id": "0b0289e8",
   "metadata": {},
   "outputs": [],
   "source": [
    "from cryptography.fernet import Fernet\n",
    "import os\n",
    "from dotenv import load_dotenv\n",
    "\n",
    "load_dotenv()\n",
    "\n",
    "FERNET_KEY = os.environ[\"FERNET_KEY\"]  # 문자열\n",
    "fernet = Fernet(FERNET_KEY)            # 바로 사용 가능\n",
    "\n",
    "# 예시\n",
    "token = \"hello\".encode()\n",
    "encrypted = fernet.encrypt(token)\n",
    "decrypted = fernet.decrypt(encrypted).decode()"
   ]
  },
  {
   "cell_type": "code",
   "execution_count": 5,
   "id": "48788bd3",
   "metadata": {},
   "outputs": [
    {
     "data": {
      "text/plain": [
       "'hello'"
      ]
     },
     "execution_count": 5,
     "metadata": {},
     "output_type": "execute_result"
    }
   ],
   "source": [
    "decrypted"
   ]
  },
  {
   "cell_type": "code",
   "execution_count": 8,
   "id": "f354632e",
   "metadata": {},
   "outputs": [
    {
     "data": {
      "text/plain": [
       "True"
      ]
     },
     "execution_count": 8,
     "metadata": {},
     "output_type": "execute_result"
    }
   ],
   "source": [
    "from passlib.hash import bcrypt\n",
    "\n",
    "# 저장할 때\n",
    "hashed = bcrypt.hash(\"user-password\")  # 복호화 불가\n",
    "\n",
    "# 로그인 시 검증\n",
    "bcrypt.verify(\"user-password\", hashed)  # 입력값과 해시 비교\n"
   ]
  }
 ],
 "metadata": {
  "kernelspec": {
   "display_name": "git-pip",
   "language": "python",
   "name": "python3"
  },
  "language_info": {
   "codemirror_mode": {
    "name": "ipython",
    "version": 3
   },
   "file_extension": ".py",
   "mimetype": "text/x-python",
   "name": "python",
   "nbconvert_exporter": "python",
   "pygments_lexer": "ipython3",
   "version": "3.11.11"
  }
 },
 "nbformat": 4,
 "nbformat_minor": 5
}
