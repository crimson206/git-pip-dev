{
 "cells": [
  {
   "cell_type": "code",
   "execution_count": null,
   "id": "726874bb",
   "metadata": {},
   "outputs": [],
   "source": [
    "from gh_pip_rc.functions.utils import *\n",
    "from gh_pip_rc.functions.utils import get_repository_info\n"
   ]
  },
  {
   "cell_type": "code",
   "execution_count": 3,
   "id": "5c8c45ca",
   "metadata": {},
   "outputs": [
    {
     "data": {
      "text/plain": [
       "'TEMP'"
      ]
     },
     "execution_count": 3,
     "metadata": {},
     "output_type": "execute_result"
    }
   ],
   "source": [
    "load_github_token()"
   ]
  },
  {
   "cell_type": "code",
   "execution_count": 4,
   "id": "44ca4b57",
   "metadata": {},
   "outputs": [
    {
     "data": {
      "text/plain": [
       "{'name': 'crimson206/git-pip-dev',\n",
       " 'url': 'https://github.com/crimson206/git-pip-dev.git',\n",
       " 'user': 'crimson206',\n",
       " 'repo': 'git-pip-dev'}"
      ]
     },
     "execution_count": 4,
     "metadata": {},
     "output_type": "execute_result"
    }
   ],
   "source": [
    "get_repository_info()"
   ]
  },
  {
   "cell_type": "code",
   "execution_count": 6,
   "id": "196b498f",
   "metadata": {},
   "outputs": [
    {
     "data": {
      "text/plain": [
       "'0.1.3a2'"
      ]
     },
     "execution_count": 6,
     "metadata": {},
     "output_type": "execute_result"
    }
   ],
   "source": [
    "read_version_from_pyproject()"
   ]
  },
  {
   "cell_type": "code",
   "execution_count": 7,
   "id": "cb54bfd5",
   "metadata": {},
   "outputs": [
    {
     "data": {
      "text/plain": [
       "['dist/crimson_git_pip_rc-0.1.3a2.tar.gz']"
      ]
     },
     "execution_count": 7,
     "metadata": {},
     "output_type": "execute_result"
    }
   ],
   "source": [
    "get_distribution_files()"
   ]
  }
 ],
 "metadata": {
  "kernelspec": {
   "display_name": "git-pip",
   "language": "python",
   "name": "python3"
  },
  "language_info": {
   "codemirror_mode": {
    "name": "ipython",
    "version": 3
   },
   "file_extension": ".py",
   "mimetype": "text/x-python",
   "name": "python",
   "nbconvert_exporter": "python",
   "pygments_lexer": "ipython3",
   "version": "3.11.11"
  }
 },
 "nbformat": 4,
 "nbformat_minor": 5
}
