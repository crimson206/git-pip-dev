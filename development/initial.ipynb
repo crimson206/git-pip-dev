{
 "cells": [
  {
   "cell_type": "markdown",
   "id": "b33f5429",
   "metadata": {},
   "source": [
    "pip install git+https://github.com/crimson206/git-pip.git"
   ]
  },
  {
   "cell_type": "code",
   "execution_count": 2,
   "id": "4ad49702",
   "metadata": {},
   "outputs": [
    {
     "name": "stdout",
     "output_type": "stream",
     "text": [
      "Hello git_pip!\n"
     ]
    }
   ],
   "source": [
    "from crimson.git_pip import print_name\n",
    "\n",
    "print_name(\"git_pip\")"
   ]
  },
  {
   "cell_type": "code",
   "execution_count": 3,
   "id": "b834353f",
   "metadata": {},
   "outputs": [
    {
     "data": {
      "text/plain": [
       "3"
      ]
     },
     "execution_count": 3,
     "metadata": {},
     "output_type": "execute_result"
    }
   ],
   "source": [
    "from crimson.git_pip.ver2 import add_numbers\n",
    "\n",
    "add_numbers(1, 2)"
   ]
  },
  {
   "cell_type": "code",
   "execution_count": null,
   "id": "7620b43a",
   "metadata": {},
   "outputs": [],
   "source": []
  },
  {
   "cell_type": "markdown",
   "id": "f251f36e",
   "metadata": {},
   "source": [
    "pip install git+https://github.com/crimson206/git-pip.git@0.1.1"
   ]
  },
  {
   "cell_type": "markdown",
   "id": "2bf3c0d9",
   "metadata": {},
   "source": [
    "pip install -gp crimson-git-pip==0.1.1"
   ]
  },
  {
   "cell_type": "code",
   "execution_count": null,
   "id": "55123179",
   "metadata": {},
   "outputs": [],
   "source": []
  }
 ],
 "metadata": {
  "kernelspec": {
   "display_name": "git-pip",
   "language": "python",
   "name": "python3"
  },
  "language_info": {
   "codemirror_mode": {
    "name": "ipython",
    "version": 3
   },
   "file_extension": ".py",
   "mimetype": "text/x-python",
   "name": "python",
   "nbconvert_exporter": "python",
   "pygments_lexer": "ipython3",
   "version": "3.11.11"
  }
 },
 "nbformat": 4,
 "nbformat_minor": 5
}
